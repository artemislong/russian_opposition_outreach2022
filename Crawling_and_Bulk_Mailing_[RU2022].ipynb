{
  "cells": [
    {
      "cell_type": "code",
      "execution_count": null,
      "metadata": {
        "colab": {
          "base_uri": "https://localhost:8080/"
        },
        "id": "-9kXQKKZtd3j",
        "outputId": "8536af89-37c5-4ed1-b57b-2bdbda9b8fe2"
      },
      "outputs": [
        {
          "output_type": "stream",
          "name": "stdout",
          "text": [
            "Looking in indexes: https://pypi.org/simple, https://us-python.pkg.dev/colab-wheels/public/simple/\n",
            "Collecting sendgrid\n",
            "  Downloading sendgrid-6.9.7-py3-none-any.whl (101 kB)\n",
            "\u001b[K     |████████████████████████████████| 101 kB 3.6 MB/s \n",
            "\u001b[?25hCollecting starkbank-ecdsa>=2.0.1\n",
            "  Downloading starkbank-ecdsa-2.2.0.tar.gz (14 kB)\n",
            "Collecting python-http-client>=3.2.1\n",
            "  Downloading python_http_client-3.3.7-py3-none-any.whl (8.4 kB)\n",
            "Building wheels for collected packages: starkbank-ecdsa\n",
            "  Building wheel for starkbank-ecdsa (setup.py) ... \u001b[?25l\u001b[?25hdone\n",
            "  Created wheel for starkbank-ecdsa: filename=starkbank_ecdsa-2.2.0-py3-none-any.whl size=15987 sha256=c39048f9dd522417422347ec9cc6fc6bef66173cc95158a472624dd12f3b9130\n",
            "  Stored in directory: /root/.cache/pip/wheels/ae/84/09/5c4abe28789e5a3e7d908ccfdbc681c2e0c2eb41b82f4a8a67\n",
            "Successfully built starkbank-ecdsa\n",
            "Installing collected packages: starkbank-ecdsa, python-http-client, sendgrid\n",
            "Successfully installed python-http-client-3.3.7 sendgrid-6.9.7 starkbank-ecdsa-2.2.0\n"
          ]
        }
      ],
      "source": [
        "pip install sendgrid"
      ]
    },
    {
      "cell_type": "code",
      "execution_count": null,
      "metadata": {
        "colab": {
          "base_uri": "https://localhost:8080/"
        },
        "id": "hjQA2s5YEaq5",
        "outputId": "4e07f1a7-5eaf-46ea-fd13-bba124794925"
      },
      "outputs": [
        {
          "output_type": "stream",
          "name": "stdout",
          "text": [
            "Mounted at /content/drive\n"
          ]
        }
      ],
      "source": [
        "from google.colab import drive\n",
        "drive.mount('/content/drive')"
      ]
    },
    {
      "cell_type": "markdown",
      "source": [
        "# Crawler to Extract Email Address from Specific Website"
      ],
      "metadata": {
        "id": "zHOllY0a4cNx"
      }
    },
    {
      "cell_type": "code",
      "execution_count": null,
      "metadata": {
        "id": "AN8wYCvE6rZl"
      },
      "outputs": [],
      "source": [
        "def is_valid_url(url):\n",
        "    import re\n",
        "    regex = re.compile(\n",
        "        r'^https?://'  # http:// or https://\n",
        "        r'(?:(?:[A-Z0-9](?:[A-Z0-9-]{0,61}[A-Z0-9])?\\.)+[A-Z]{2,6}\\.?|'  # domain...\n",
        "        r'localhost|'  # localhost...\n",
        "        r'\\d{1,3}\\.\\d{1,3}\\.\\d{1,3}\\.\\d{1,3})' # ...or ip\n",
        "        r'(?::\\d+)?'  # optional port\n",
        "        r'(?:/?|[/?]\\S+)$', re.IGNORECASE)\n",
        "    return url is not None and regex.search(url)"
      ]
    },
    {
      "cell_type": "code",
      "execution_count": null,
      "metadata": {
        "colab": {
          "base_uri": "https://localhost:8080/",
          "height": 1000
        },
        "id": "lb9FeYCZ7L_P",
        "outputId": "cbc54172-3993-4ecf-b6da-c61046784f7e"
      },
      "outputs": [
      
      ],
      "source": [
        "import re\n",
        "import requests\n",
        "import requests.exceptions\n",
        "from urllib.parse import urlsplit\n",
        "from collections import deque\n",
        "from bs4 import BeautifulSoup\n",
        "\n",
        "# starting url\n",
        "starting_url = 'https://skoltech.ru'\n",
        "based_url = \"https://faculty.skoltech.ru\"\n",
        "# a queue of urls to be crawled\n",
        "unprocessed_urls = deque([starting_url])\n",
        "\n",
        "# set of already crawled urls for email\n",
        "processed_urls = set()\n",
        "\n",
        "# a set of fetched emails\n",
        "emails = set()\n",
        "phones = set()\n",
        "\n",
        "# process urls one by one from unprocessed_url queue until queue is empty\n",
        "while len(unprocessed_urls):\n",
        "    print(unprocessed_urls)\n",
        "    # move next url from the queue to the set of processed urls\n",
        "    url = unprocessed_urls.popleft()\n",
        "    if not is_valid_url(url): continue\n",
        "    # if not (url.startswith(\"https://rdkb.ru/\") or url.startswith(\"http://rdkb.ru/\")): continue\n",
        "    # if not (url.startswith(based_url)): continue\n",
        "    if \"javascript\" in url or \"mailto\" in url or \"tel:\" in url or \".jpg\" in url: continue\n",
        "    processed_urls.add(url)\n",
        "\n",
        "    # extract base url to resolve relative links\n",
        "    parts = urlsplit(url)\n",
        "    base_url = \"{0.scheme}://{0.netloc}\".format(parts)\n",
        "    # path = url[:url.rfind('/')+1] if '/' in parts.path else url\n",
        "    path = based_url\n",
        "    # get url's content\n",
        "    print(\"Crawling URL %s\" % url)\n",
        "    try:\n",
        "        response = requests.get(url)\n",
        "    except (requests.exceptions.MissingSchema, requests.exceptions.ConnectionError):\n",
        "        # ignore pages with errors and continue with next url\n",
        "        continue\n",
        "\n",
        "    # extract all email addresses and add them into the resulting set\n",
        "    # You may edit the regular expression as per your requirement\n",
        "    new_emails = set(re.findall(r\"[a-z0-9\\.\\-+_]+@[a-z0-9\\.\\-+_]+\\.[a-z]+\", response.text, re.I))\n",
        "    new_phones = set(re.findall(r\"^\\s*(?:\\+?(\\d{1,3}))?[-. (]*(\\d{3})[-. )]*(\\d{3})[-. ]*(\\d{4})(?: *x(\\d+))?\\s*$\", response.text, re.I))\n",
        "    emails.update(new_emails)\n",
        "    phones.update(new_phones)\n",
        "    print(new_emails)\n",
        "    print(new_phones)\n",
        "    # create a beutiful soup for the html document\n",
        "    soup = BeautifulSoup(response.text, 'lxml')\n",
        "\n",
        "    # Once this document is parsed and processed, now find and process all the anchors i.e. linked urls in this document\n",
        "    for anchor in soup.find_all(\"a\"):\n",
        "        # extract link url from the anchor\n",
        "        link = anchor.attrs[\"href\"] if \"href\" in anchor.attrs else ''\n",
        "        # resolve relative links (starting with /)\n",
        "        if link.startswith('/'):\n",
        "            link = base_url + link\n",
        "        elif not link.startswith('http'):\n",
        "            link = path + link\n",
        "        # add the new url to the queue if it was not in unprocessed list nor in processed list yet\n",
        "        if not link in unprocessed_urls and not link in processed_urls:\n",
        "            unprocessed_urls.append(link)"
      ]
    },
    {
      "cell_type": "code",
      "execution_count": null,
      "metadata": {
        "id": "0DZfKz7V9Y-K"
      },
      "outputs": [],
      "source": [
        " print(emails)"
      ]
    },
    {
      "cell_type": "markdown",
      "source": [
        "# Bulk mailing using Sendgrid API (retired in 2023)\n"
      ],
      "metadata": {
        "id": "ui-UVC4i52Su"
      }
    },
    {
      "cell_type": "code",
      "execution_count": null,
      "metadata": {
        "id": "9YkAaK6ZtZ6Z"
      },
      "outputs": [],
      "source": [
        "import sendgrid\n",
        "import os\n",
        "from sendgrid.helpers.mail import *\n",
        "import csv"
      ]
    },
    {
      "cell_type": "code",
      "execution_count": null,
      "metadata": {
        "id": "IIou86unt1ag"
      },
      "outputs": [],
      "source": [
        "SENDGRID_API_KEY=\"insert or import your API key here\n",
        "\n",
        "TEMPLATE_PATH = \"/campaigns/sendgrid_test/template1.txt\"\n",
        "CONTACTS_PATH = \"/campaigns/sendgrid_test/verified_emails_1412_60k-100k.csv\"\n",
        "CONTACT_START = 0\n",
        "SEND_NUMBER = 1 # number of contacts to send to"
      ]
    },
    {
      "cell_type": "code",
      "execution_count": null,
      "metadata": {
        "id": "q-MzNT3i3_HD"
      },
      "outputs": [],
      "source": [
        "with open(TEMPLATE_PATH, 'r') as file:\n",
        "    template = str(file.read().rstrip())"
      ]
    },
    {
      "cell_type": "code",
      "execution_count": null,
      "metadata": {
        "id": "lM-_vxvnvxAn"
      },
      "outputs": [],
      "source": [
        "sg = sendgrid.SendGridAPIClient(SENDGRID_API_KEY)"
      ]
    },
    {
      "cell_type": "code",
      "execution_count": null,
      "metadata": {
        "colab": {
          "base_uri": "https://localhost:8080/"
        },
        "id": "UgvwQrUyFKhR",
        "outputId": "813185a0-813c-495d-992b-46a51a849323"
      },
      "outputs": [
        {
          "output_type": "stream",
          "name": "stdout",
          "text": [
            "0 SENDING TO:  test@gmail.com\n",
            "202\n",
            "b''\n",
            "Server: nginx\n",
            "Date: Tue, 20 Dec 2022 04:26:06 GMT\n",
            "Content-Length: 0\n",
            "Connection: close\n",
            "X-Message-Id: 3NFN2z_qTgybBybZebhL9Q\n",
            "Access-Control-Allow-Origin: https://sendgrid.api-docs.io\n",
            "Access-Control-Allow-Methods: POST\n",
            "Access-Control-Allow-Headers: Authorization, Content-Type, On-behalf-of, x-sg-elas-acl\n",
            "Access-Control-Max-Age: 600\n",
            "X-No-CORS-Reason: https://sendgrid.com/docs/Classroom/Basics/API/cors.html\n",
            "Strict-Transport-Security: max-age=600; includeSubDomains\n",
            "\n",
            "\n",
            "0 =====================COMPLETED\n"
          ]
        }
      ],
      "source": [
        "# reading through each row of csv file and sending mail separatedly\n",
        "from_email = (\"opros@vktsoom.ru\",\"Фонд Общественное Мнение ВКЦООМ\")\n",
        "subject = \"Участвуйте во Всероссийском Социологическом Опросе ВКЦООМ-Циф 2022\"\n",
        "\n",
        "start = CONTACT_START\n",
        "number = SEND_NUMBER\n",
        "\n",
        "with open(CONTACTS_PATH) as file_obj:\n",
        "    reader_obj = csv.reader(file_obj)\n",
        "    for row in reader_obj:\n",
        "      # skip first number of contacts\n",
        "      if start > 0:\n",
        "        start = start - 1\n",
        "      else:\n",
        "        if number == 0: break\n",
        "        # keep track of how many contacts have sent to\n",
        "        number = number - 1;\n",
        "        # customizing email\n",
        "        recipient = \"tuftsforukraine@gmail.com\"\n",
        "        url = row[1]\n",
        "        print(number,\"SENDING TO: \",recipient)\n",
        "        content = template.replace(\"{{{recipient}}}\",recipient)\n",
        "        content = content.replace(\"{{{button_url}}}\",url)\n",
        "        to_email = To(recipient) # change here\n",
        "        content = Content(\"text/html\", content) #change here\n",
        "        mail = Mail(from_email, to_email, subject, content)\n",
        "        mail.add_header(Header(\"Priority\", \"Urgent\"));\n",
        "        mail.add_header(Header(\"Importance\", \"high\"));\n",
        "        response = sg.client.mail.send.post(request_body=mail.get())\n",
        "        print(response.status_code)\n",
        "        print(response.body)\n",
        "        print(response.headers)\n",
        "        print(number,\"=====================COMPLETED\")"
      ]
    },
    {
      "cell_type": "code",
      "execution_count": null,
      "metadata": {
        "colab": {
          "base_uri": "https://localhost:8080/"
        },
        "id": "G47mq2DX5CTO",
        "outputId": "4c04c3fd-20f2-4737-99a2-d21d4ef9c3d9"
      },
      "outputs": [
        {
          "output_type": "stream",
          "name": "stdout",
          "text": [
            "date 2022-12-15\n",
            "{'metrics': {'blocks': 0, 'bounce_drops': 0, 'bounces': 0, 'clicks': 0, 'deferred': 0, 'delivered': 0, 'invalid_emails': 0, 'opens': 0, 'processed': 0, 'requests': 0, 'spam_report_drops': 0, 'spam_reports': 0, 'unique_clicks': 0, 'unique_opens': 0, 'unsubscribe_drops': 0, 'unsubscribes': 0}}\n",
            "date 2022-12-16\n",
            "{'metrics': {'blocks': 1, 'bounce_drops': 0, 'bounces': 2, 'clicks': 23, 'deferred': 0, 'delivered': 123, 'invalid_emails': 0, 'opens': 19, 'processed': 126, 'requests': 126, 'spam_report_drops': 0, 'spam_reports': 0, 'unique_clicks': 8, 'unique_opens': 9, 'unsubscribe_drops': 0, 'unsubscribes': 0}}\n",
            "date 2022-12-17\n",
            "{'metrics': {'blocks': 915, 'bounce_drops': 0, 'bounces': 930, 'clicks': 133, 'deferred': 65412, 'delivered': 77011, 'invalid_emails': 2, 'opens': 938, 'processed': 78843, 'requests': 78845, 'spam_report_drops': 0, 'spam_reports': 1, 'unique_clicks': 66, 'unique_opens': 826, 'unsubscribe_drops': 0, 'unsubscribes': 0}}\n",
            "date 2022-12-18\n",
            "{'metrics': {'blocks': 95, 'bounce_drops': 0, 'bounces': 136, 'clicks': 95, 'deferred': 1, 'delivered': 12006, 'invalid_emails': 0, 'opens': 651, 'processed': 12236, 'requests': 12236, 'spam_report_drops': 0, 'spam_reports': 1, 'unique_clicks': 63, 'unique_opens': 533, 'unsubscribe_drops': 0, 'unsubscribes': 0}}\n",
            "date 2022-12-19\n",
            "{'metrics': {'blocks': 1981, 'bounce_drops': 72, 'bounces': 2850, 'clicks': 72, 'deferred': 13280, 'delivered': 8790, 'invalid_emails': 5, 'opens': 374, 'processed': 13623, 'requests': 13701, 'spam_report_drops': 1, 'spam_reports': 1, 'unique_clicks': 46, 'unique_opens': 293, 'unsubscribe_drops': 0, 'unsubscribes': 0}}\n",
            "date 2022-12-20\n",
            "{'metrics': {'blocks': 0, 'bounce_drops': 0, 'bounces': 0, 'clicks': 26, 'deferred': 122, 'delivered': 6, 'invalid_emails': 0, 'opens': 188, 'processed': 0, 'requests': 0, 'spam_report_drops': 0, 'spam_reports': 1, 'unique_clicks': 15, 'unique_opens': 137, 'unsubscribe_drops': 0, 'unsubscribes': 0}}\n",
            "date 2022-12-21\n",
            "{'metrics': {'blocks': 0, 'bounce_drops': 0, 'bounces': 0, 'clicks': 17, 'deferred': 0, 'delivered': 0, 'invalid_emails': 0, 'opens': 125, 'processed': 0, 'requests': 0, 'spam_report_drops': 0, 'spam_reports': 0, 'unique_clicks': 14, 'unique_opens': 97, 'unsubscribe_drops': 0, 'unsubscribes': 0}}\n",
            "date 2022-12-22\n",
            "{'metrics': {'blocks': 0, 'bounce_drops': 0, 'bounces': 0, 'clicks': 0, 'deferred': 0, 'delivered': 0, 'invalid_emails': 0, 'opens': 0, 'processed': 0, 'requests': 0, 'spam_report_drops': 0, 'spam_reports': 0, 'unique_clicks': 0, 'unique_opens': 0, 'unsubscribe_drops': 0, 'unsubscribes': 0}}\n"
          ]
        }
      ],
      "source": [
        "from ast import literal_eval\n",
        "params = {'start_date': '2022-12-15'}\n",
        "\n",
        "# retrieve stats by mailbox provider\n",
        "# response = sg.client.mailbox_providers.stats.get(\n",
        "#     query_params=params\n",
        "# )\n",
        "\n",
        "# by device type (not useful)\n",
        "# response = sg.client.devices.stats.get(\n",
        "#     query_params=params\n",
        "# )\n",
        "\n",
        "# global stats\n",
        "response = sg.client.stats.get(\n",
        "    query_params=params\n",
        ")\n",
        "\n",
        "res = literal_eval(response.body.decode('ascii'))\n",
        "for i in res:\n",
        "  print(\"date\", i['date'])\n",
        "  for j in i['stats']:\n",
        "      print(j)\n",
        "\n",
        "# 9000 left\n",
        "# do not sent too much immediately to avoid deferral"
      ]
    },
    {
      "cell_type": "code",
      "execution_count": null,
      "metadata": {
        "colab": {
          "base_uri": "https://localhost:8080/"
        },
        "id": "OIpOI0POG3ny",
        "outputId": "72f367a4-ab48-4e38-8cc7-656357e9089a"
      },
      "outputs": [
        {
          "output_type": "stream",
          "name": "stdout",
          "text": [
            "200\n",
            "b'{\"is_hard_limit\":false,\"last_reset\":\"2022-12-01\",\"next_reset\":\"2023-01-01\",\"overage\":0,\"remain\":93,\"reset_frequency\":\"monthly\",\"total\":100000,\"used\":99907}'\n",
            "Server: nginx\n",
            "Date: Tue, 20 Dec 2022 04:13:31 GMT\n",
            "Content-Type: application/json\n",
            "Content-Length: 155\n",
            "Connection: close\n",
            "access-control-allow-methods: HEAD, OPTIONS, GET\n",
            "access-control-max-age: 21600\n",
            "access-control-expose-headers: Link, Location\n",
            "access-control-allow-origin: *\n",
            "access-control-allow-headers: AUTHORIZATION, Content-Type, On-behalf-of, x-sg-elas-acl, X-Recaptcha, X-Request-Source, Browser-Fingerprint\n",
            "content-security-policy: default-src https://api.sendgrid.com; frame-src 'none'; object-src 'none'\n",
            "x-content-type-options: nosniff\n",
            "strict-transport-security: max-age=31536000\n",
            "x-client-ff: 1000\n",
            "x-ratelimit-remaining: 598\n",
            "x-ratelimit-limit: 600\n",
            "x-ratelimit-reset: 1671509640\n",
            "twilio-request-id: RQ2JA8dDQSHdcQkQDs8lyuiMY5kHt\n",
            "x-envoy-upstream-service-time: 333\n",
            "Powered-By: Mako\n",
            "Strict-Transport-Security: max-age=600; includeSubDomains\n",
            "\n",
            "\n"
          ]
        }
      ],
      "source": [
        "response = sg.client.user.credits.get()\n",
        "print(response.status_code)\n",
        "print(response.body)\n",
        "print(response.headers)\n",
        "\n",
        "# bounces\n",
        "\n",
        "# response = sg.client.suppression.bounces.get()\n",
        "# print(len(literal_eval(response.body.decode('ascii'))))\n",
        "# # blocks\n",
        "# response = sg.client.suppression.blocks.get()\n",
        "# print(len(literal_eval(response.body.decode('ascii'))))\n",
        "# spam\n",
        "# response = sg.client.suppression.spam_reports.get()\n",
        "# print(len(literal_eval(response.body.decode('ascii'))))\n",
        "\n",
        "# res = literal_eval(response.body.decode('ascii'))\n",
        "# for i in res:\n",
        "#   print(i)\n"
      ]
    }
  ],
  "metadata": {
    "colab": {
      "provenance": []
    },
    "kernelspec": {
      "display_name": "Python 3",
      "name": "python3"
    },
    "language_info": {
      "name": "python"
    }
  },
  "nbformat": 4,
  "nbformat_minor": 0
}
